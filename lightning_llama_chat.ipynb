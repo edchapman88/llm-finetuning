{
 "cells": [
  {
   "cell_type": "code",
   "execution_count": 1,
   "metadata": {},
   "outputs": [],
   "source": [
    "# Huggingface token for meta licence acceptance\n",
    "from dotenv import load_dotenv\n",
    "import os\n",
    "\n",
    "load_dotenv()\n",
    "HF_TOKEN = os.getenv('HF_TOKEN')\n",
    "\n",
    "MODEL_ID = \"meta-llama/Llama-2-7b-chat-hf\""
   ]
  },
  {
   "cell_type": "code",
   "execution_count": 2,
   "metadata": {},
   "outputs": [
    {
     "name": "stderr",
     "output_type": "stream",
     "text": [
      "/Users/echapman/projects/llm-finetuning/.venv/lib/python3.12/site-packages/tqdm/auto.py:21: TqdmWarning: IProgress not found. Please update jupyter and ipywidgets. See https://ipywidgets.readthedocs.io/en/stable/user_install.html\n",
      "  from .autonotebook import tqdm as notebook_tqdm\n",
      "/Users/echapman/projects/llm-finetuning/.venv/lib/python3.12/site-packages/transformers/models/auto/auto_factory.py:468: FutureWarning: The `use_auth_token` argument is deprecated and will be removed in v5 of Transformers. Please use `token` instead.\n",
      "  warnings.warn(\n",
      "Loading checkpoint shards: 100%|██████████| 2/2 [00:18<00:00,  9.34s/it]\n"
     ]
    }
   ],
   "source": [
    "\n",
    "import torch\n",
    "import lightning as L\n",
    "from torch import optim\n",
    "from transformers import AutoModelForCausalLM, AutoTokenizer, Conversation, LlamaForCausalLM, LlamaTokenizerFast\n",
    "\n",
    "class LitLlamaChat(L.LightningModule):\n",
    "    def __init__(self, llm: LlamaForCausalLM, tokenizer: LlamaTokenizerFast):\n",
    "        super().__init__()\n",
    "        self.llm, self.tokenizer = llm, tokenizer\n",
    "    \n",
    "    def training_step(self, batch, batch_idx):\n",
    "        outputs = self.llm(**batch)\n",
    "        loss = outputs.loss\n",
    "        self.log(\"train_loss\", loss)\n",
    "        return loss\n",
    "    \n",
    "    def configure_optimizers(self):\n",
    "        return optim.AdamW(self.parameters(), lr=5e-5)\n",
    "    \n",
    "    def validation_step(self, batch, batch_idx):\n",
    "        outputs = self.llm(**batch)\n",
    "        self.log(\"val_loss\", outputs.loss)\n",
    "\n",
    "    def generate(self, batch: list[list[int]], *args, **kwargs):\n",
    "        # argmax (greedy search) by default\n",
    "        return self.llm.generate(torch.tensor(batch, dtype=torch.long), *args, **kwargs)\n",
    "\n",
    "    def forward(self, batch: list[list[int]]):\n",
    "        self.eval()\n",
    "        with torch.no_grad():\n",
    "            out = self.llm.forward(input_ids=torch.tensor(batch, dtype=torch.long))\n",
    "        next_token_logits = out.logits[:,-1]    # B,1,V\n",
    "        return next_token_logits\n",
    "    \n",
    "    def generate_from_conversations(self, batch: list[Conversation], *args, **kwargs):\n",
    "        toks_in = [self.tokenizer.apply_chat_template(conv) for conv in batch]\n",
    "        toks_out = self.generate(toks_in, *args, **kwargs)\n",
    "        self.tokenizer\n",
    "        return self.tokenizer.batch_decode(toks_out)\n",
    "    \n",
    "model = LitLlamaChat(\n",
    "    AutoModelForCausalLM.from_pretrained(MODEL_ID, use_auth_token=HF_TOKEN),\n",
    "    AutoTokenizer.from_pretrained(MODEL_ID)\n",
    ")\n",
    "        "
   ]
  },
  {
   "cell_type": "code",
   "execution_count": 3,
   "metadata": {},
   "outputs": [
    {
     "name": "stdout",
     "output_type": "stream",
     "text": [
      "['<s> [INST] <<SYS>>\\nAnswer the following questions:\\n<</SYS>>\\n\\nWho is God? [/INST]']\n"
     ]
    }
   ],
   "source": [
    "batch = [Conversation([{\"role\":\"system\",\"content\": \"Answer the following questions:\"},{\"role\":\"user\",\"content\": \"Who is God?\"},])]\n",
    "toks_in = [model.tokenizer.apply_chat_template(conv) for conv in batch]\n",
    "print(model.tokenizer.batch_decode(toks_in))"
   ]
  },
  {
   "cell_type": "code",
   "execution_count": 4,
   "metadata": {},
   "outputs": [
    {
     "name": "stdout",
     "output_type": "stream",
     "text": [
      "<s> [INST] <<SYS>>\n",
      "Answer the following questions:\n",
      "<</SYS>>\n",
      "\n",
      "Who is God? [/INST]  I'm just an AI, I\n"
     ]
    }
   ],
   "source": [
    "print(model.generate_from_conversations(batch, max_new_tokens=10)[0])"
   ]
  }
 ],
 "metadata": {
  "kernelspec": {
   "display_name": ".venv",
   "language": "python",
   "name": "python3"
  },
  "language_info": {
   "codemirror_mode": {
    "name": "ipython",
    "version": 3
   },
   "file_extension": ".py",
   "mimetype": "text/x-python",
   "name": "python",
   "nbconvert_exporter": "python",
   "pygments_lexer": "ipython3",
   "version": "3.12.2"
  }
 },
 "nbformat": 4,
 "nbformat_minor": 2
}
