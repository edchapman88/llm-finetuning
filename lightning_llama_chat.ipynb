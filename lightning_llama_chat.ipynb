{
 "cells": [
  {
   "cell_type": "code",
   "execution_count": 5,
   "metadata": {},
   "outputs": [
    {
     "data": {
      "text/plain": [
       "True"
      ]
     },
     "execution_count": 5,
     "metadata": {},
     "output_type": "execute_result"
    }
   ],
   "source": [
    "# Huggingface token for meta licence acceptance\n",
    "from dotenv import load_dotenv\n",
    "import os\n",
    "\n",
    "load_dotenv()\n",
    "HF_TOKEN = os.getenv('HF_TOKEN')"
   ]
  },
  {
   "cell_type": "code",
   "execution_count": 4,
   "metadata": {},
   "outputs": [
    {
     "name": "stderr",
     "output_type": "stream",
     "text": [
      "/Users/echapman/projects/llm-finetuning/.venv/lib/python3.12/site-packages/transformers/models/auto/auto_factory.py:468: FutureWarning: The `use_auth_token` argument is deprecated and will be removed in v5 of Transformers. Please use `token` instead.\n",
      "  warnings.warn(\n",
      "Downloading shards: 100%|██████████| 2/2 [35:33<00:00, 1066.65s/it]\n",
      "Loading checkpoint shards: 100%|██████████| 2/2 [00:29<00:00, 14.62s/it]\n"
     ]
    }
   ],
   "source": [
    "import lightning as L\n",
    "from torch import optim\n",
    "from transformers import AutoModelForCausalLM\n",
    "\n",
    "class LitLLM(L.LightningModule):\n",
    "    def __init__(self, llm):\n",
    "        super().__init__()\n",
    "        self.llm = llm\n",
    "    \n",
    "    def training_step(self, batch, batch_idx):\n",
    "        outputs = self.llm(**batch)\n",
    "        loss = outputs.loss\n",
    "        self.log(\"train_loss\", loss)\n",
    "        return loss\n",
    "    \n",
    "    def configure_optimizers(self):\n",
    "        return optim.AdamW(self.parameters(), lr=5e-5)\n",
    "    \n",
    "    def validation_step(self, batch, batch_idx):\n",
    "        outputs = self.llm(**batch)\n",
    "        self.log(\"val_loss\", outputs.loss)\n",
    "    \n",
    "model = LitLLM(\n",
    "    AutoModelForCausalLM.from_pretrained(\"meta-llama/Llama-2-7b-chat-hf\", use_auth_token=HF_TOKEN)\n",
    ")\n",
    "        "
   ]
  }
 ],
 "metadata": {
  "kernelspec": {
   "display_name": ".venv",
   "language": "python",
   "name": "python3"
  },
  "language_info": {
   "codemirror_mode": {
    "name": "ipython",
    "version": 3
   },
   "file_extension": ".py",
   "mimetype": "text/x-python",
   "name": "python",
   "nbconvert_exporter": "python",
   "pygments_lexer": "ipython3",
   "version": "3.12.2"
  }
 },
 "nbformat": 4,
 "nbformat_minor": 2
}
